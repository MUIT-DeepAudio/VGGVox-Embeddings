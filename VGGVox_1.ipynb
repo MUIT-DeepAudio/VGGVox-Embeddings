{
  "nbformat": 4,
  "nbformat_minor": 0,
  "metadata": {
    "colab": {
      "name": "VGGVox_1.ipynb",
      "provenance": [],
      "collapsed_sections": [
        "34sT4wiKfmJg"
      ]
    },
    "kernelspec": {
      "name": "python3",
      "display_name": "Python 3"
    },
    "accelerator": "GPU"
  },
  "cells": [
    {
      "cell_type": "markdown",
      "metadata": {
        "id": "jaNiXEWFmbRd"
      },
      "source": [
        "# Simple Example to test a pre-trained VGGVox for speaker identification using a small VoxCeleb1 dataset\n",
        "\n",
        "* ## This Notebook has been adapted from:\n",
        "\n",
        "https://github.com/Derpimort/VGGVox-PyTorch\n",
        "\n",
        "https://rzimmermann.com/coding/vggvox-pytorch\n"
      ]
    },
    {
      "cell_type": "markdown",
      "metadata": {
        "id": "STu7KzUhNGyY"
      },
      "source": [
        "* ## Clonar el github: VGGVox PyTorch"
      ]
    },
    {
      "cell_type": "code",
      "metadata": {
        "id": "9V06v9gXmWcq",
        "colab": {
          "base_uri": "https://localhost:8080/"
        },
        "outputId": "1c438cf9-c3fd-45a6-f792-6f47281c4c0e"
      },
      "source": [
        "! git clone https://github.com/Derpimort/VGGVox-PyTorch.git"
      ],
      "execution_count": 2,
      "outputs": [
        {
          "output_type": "stream",
          "text": [
            "Cloning into 'VGGVox-PyTorch'...\n",
            "remote: Enumerating objects: 8, done.\u001b[K\n",
            "remote: Counting objects: 100% (8/8), done.\u001b[K\n",
            "remote: Compressing objects: 100% (7/7), done.\u001b[K\n",
            "remote: Total 101 (delta 1), reused 5 (delta 1), pack-reused 93\u001b[K\n",
            "Receiving objects: 100% (101/101), 64.81 MiB | 38.72 MiB/s, done.\n",
            "Resolving deltas: 100% (50/50), done.\n"
          ],
          "name": "stdout"
        }
      ]
    },
    {
      "cell_type": "code",
      "metadata": {
        "id": "WOLIEULcBIa6",
        "colab": {
          "base_uri": "https://localhost:8080/"
        },
        "outputId": "9dfccf54-2581-4a11-b01e-65c4c1e97678"
      },
      "source": [
        "! df -a"
      ],
      "execution_count": 3,
      "outputs": [
        {
          "output_type": "stream",
          "text": [
            "Filesystem     1K-blocks     Used Available Use% Mounted on\n",
            "overlay         71724152 33889048  37818720  48% /\n",
            "proc                   0        0         0    - /proc\n",
            "tmpfs              65536        0     65536   0% /dev\n",
            "devpts                 0        0         0    - /dev/pts\n",
            "sysfs                  0        0         0    - /sys\n",
            "tmpfs            6666796        0   6666796   0% /sys/fs/cgroup\n",
            "cgroup                 0        0         0    - /sys/fs/cgroup/systemd\n",
            "cgroup                 0        0         0    - /sys/fs/cgroup/cpuset\n",
            "cgroup                 0        0         0    - /sys/fs/cgroup/devices\n",
            "cgroup                 0        0         0    - /sys/fs/cgroup/net_cls,net_prio\n",
            "cgroup                 0        0         0    - /sys/fs/cgroup/hugetlb\n",
            "cgroup                 0        0         0    - /sys/fs/cgroup/cpu,cpuacct\n",
            "cgroup                 0        0         0    - /sys/fs/cgroup/perf_event\n",
            "cgroup                 0        0         0    - /sys/fs/cgroup/memory\n",
            "cgroup                 0        0         0    - /sys/fs/cgroup/freezer\n",
            "cgroup                 0        0         0    - /sys/fs/cgroup/pids\n",
            "cgroup                 0        0         0    - /sys/fs/cgroup/blkio\n",
            "cgroup                 0        0         0    - /sys/fs/cgroup/rdma\n",
            "mqueue                 0        0         0    - /dev/mqueue\n",
            "shm              6029312        0   6029312   0% /dev/shm\n",
            "tmpfs            6666796       16   6666780   1% /var/colab\n",
            "/dev/sda1       78224816 35078356  43130076  45% /usr/lib64-nvidia\n",
            "/dev/sda1       78224816 35078356  43130076  45% /opt/bin\n",
            "/dev/sda1       78224816 35078356  43130076  45% /etc/resolv.conf\n",
            "/dev/sda1       78224816 35078356  43130076  45% /etc/hostname\n",
            "/dev/sda1       78224816 35078356  43130076  45% /etc/hosts\n",
            "tmpfs            6666796       16   6666780   1% /var/colab/shared\n",
            "proc                   0        0         0    - /proc/bus\n",
            "proc                   0        0         0    - /proc/fs\n",
            "proc                   0        0         0    - /proc/irq\n",
            "proc                   0        0         0    - /proc/sys\n",
            "proc                   0        0         0    - /proc/sysrq-trigger\n",
            "tmpfs            6666796        0   6666796   0% /proc/acpi\n",
            "tmpfs              65536        0     65536   0% /proc/kcore\n",
            "tmpfs              65536        0     65536   0% /proc/keys\n",
            "tmpfs              65536        0     65536   0% /proc/timer_list\n",
            "tmpfs            6666796        0   6666796   0% /proc/scsi\n",
            "tmpfs            6666796        0   6666796   0% /sys/firmware\n"
          ],
          "name": "stdout"
        }
      ]
    },
    {
      "cell_type": "code",
      "metadata": {
        "id": "ktsQDN0_myB0",
        "colab": {
          "base_uri": "https://localhost:8080/"
        },
        "outputId": "69dd1641-c9c1-4892-e0d3-748a52b7cf34"
      },
      "source": [
        "ls ./VGGVox-PyTorch/"
      ],
      "execution_count": 1,
      "outputs": [
        {
          "output_type": "stream",
          "text": [
            "\u001b[0m\u001b[01;34mdata\u001b[0m/    \u001b[01;34mmodels\u001b[0m/        README.md         results.txt      test.wav  vggm.py\n",
            "LICENSE  model_test.py  requirements.txt  signal_utils.py  train.py\n"
          ],
          "name": "stdout"
        }
      ]
    },
    {
      "cell_type": "markdown",
      "metadata": {
        "id": "uEvlwZeDNW8k"
      },
      "source": [
        "## * Change the current directory to /content/VGGVox-PyTorch"
      ]
    },
    {
      "cell_type": "code",
      "metadata": {
        "colab": {
          "base_uri": "https://localhost:8080/"
        },
        "id": "vpsNhUPQQmoN",
        "outputId": "db5b59ca-4eae-47a1-da33-e6475e2ae406"
      },
      "source": [
        "cd /content/VGGVox-PyTorch\n"
      ],
      "execution_count": 22,
      "outputs": [
        {
          "output_type": "stream",
          "text": [
            "/content/VGGVox-PyTorch\n"
          ],
          "name": "stdout"
        }
      ]
    },
    {
      "cell_type": "markdown",
      "metadata": {
        "id": "-YmyNqB_NmHk"
      },
      "source": [
        "# Install packages\n",
        "# <font color=red>WARNING!!! once installed, you have to reset the virtual machine (see the warning message)"
      ]
    },
    {
      "cell_type": "code",
      "metadata": {
        "id": "5jH40Xb-m7C0",
        "colab": {
          "base_uri": "https://localhost:8080/",
          "height": 536
        },
        "outputId": "719b1ee3-d5da-414c-8531-7f4e4edcd9d3"
      },
      "source": [
        "! pip install -r requirements.txt"
      ],
      "execution_count": 6,
      "outputs": [
        {
          "output_type": "stream",
          "text": [
            "Requirement already satisfied: numpy in /usr/local/lib/python3.6/dist-packages (from -r requirements.txt (line 1)) (1.18.5)\n",
            "Requirement already satisfied: scipy in /usr/local/lib/python3.6/dist-packages (from -r requirements.txt (line 2)) (1.4.1)\n",
            "Requirement already satisfied: pandas in /usr/local/lib/python3.6/dist-packages (from -r requirements.txt (line 3)) (1.1.4)\n",
            "Requirement already satisfied: torch in /usr/local/lib/python3.6/dist-packages (from -r requirements.txt (line 4)) (1.7.0+cu101)\n",
            "Requirement already satisfied: torchvision in /usr/local/lib/python3.6/dist-packages (from -r requirements.txt (line 5)) (0.8.1+cu101)\n",
            "Requirement already satisfied: matplotlib in /usr/local/lib/python3.6/dist-packages (from -r requirements.txt (line 6)) (3.2.2)\n",
            "Requirement already satisfied: tqdm in /usr/local/lib/python3.6/dist-packages (from -r requirements.txt (line 7)) (4.41.1)\n",
            "Collecting argparse\n",
            "  Downloading https://files.pythonhosted.org/packages/f2/94/3af39d34be01a24a6e65433d19e107099374224905f1e0cc6bbe1fd22a2f/argparse-1.4.0-py2.py3-none-any.whl\n",
            "Requirement already satisfied: torchsummary in /usr/local/lib/python3.6/dist-packages (from -r requirements.txt (line 9)) (1.5.1)\n",
            "Requirement already satisfied: pytz>=2017.2 in /usr/local/lib/python3.6/dist-packages (from pandas->-r requirements.txt (line 3)) (2018.9)\n",
            "Requirement already satisfied: python-dateutil>=2.7.3 in /usr/local/lib/python3.6/dist-packages (from pandas->-r requirements.txt (line 3)) (2.8.1)\n",
            "Requirement already satisfied: typing-extensions in /usr/local/lib/python3.6/dist-packages (from torch->-r requirements.txt (line 4)) (3.7.4.3)\n",
            "Requirement already satisfied: future in /usr/local/lib/python3.6/dist-packages (from torch->-r requirements.txt (line 4)) (0.16.0)\n",
            "Requirement already satisfied: dataclasses in /usr/local/lib/python3.6/dist-packages (from torch->-r requirements.txt (line 4)) (0.8)\n",
            "Requirement already satisfied: pillow>=4.1.1 in /usr/local/lib/python3.6/dist-packages (from torchvision->-r requirements.txt (line 5)) (7.0.0)\n",
            "Requirement already satisfied: kiwisolver>=1.0.1 in /usr/local/lib/python3.6/dist-packages (from matplotlib->-r requirements.txt (line 6)) (1.3.1)\n",
            "Requirement already satisfied: pyparsing!=2.0.4,!=2.1.2,!=2.1.6,>=2.0.1 in /usr/local/lib/python3.6/dist-packages (from matplotlib->-r requirements.txt (line 6)) (2.4.7)\n",
            "Requirement already satisfied: cycler>=0.10 in /usr/local/lib/python3.6/dist-packages (from matplotlib->-r requirements.txt (line 6)) (0.10.0)\n",
            "Requirement already satisfied: six>=1.5 in /usr/local/lib/python3.6/dist-packages (from python-dateutil>=2.7.3->pandas->-r requirements.txt (line 3)) (1.15.0)\n",
            "Installing collected packages: argparse\n",
            "Successfully installed argparse-1.4.0\n"
          ],
          "name": "stdout"
        },
        {
          "output_type": "display_data",
          "data": {
            "application/vnd.colab-display-data+json": {
              "pip_warning": {
                "packages": [
                  "argparse"
                ]
              }
            }
          },
          "metadata": {
            "tags": []
          }
        }
      ]
    },
    {
      "cell_type": "markdown",
      "metadata": {
        "id": "k2GSJD46OE6E"
      },
      "source": [
        "# LET's see what data do we need"
      ]
    },
    {
      "cell_type": "code",
      "metadata": {
        "id": "2Lcjd2pNnJ8M",
        "colab": {
          "base_uri": "https://localhost:8080/"
        },
        "outputId": "daa10e1d-d95e-4ce4-a199-49453c2a7a8a"
      },
      "source": [
        "ls -al ./data/"
      ],
      "execution_count": 3,
      "outputs": [
        {
          "output_type": "stream",
          "text": [
            "total 5228\n",
            "drwxr-xr-x 2 root root    4096 Nov 24 19:02 \u001b[0m\u001b[01;34m.\u001b[0m/\n",
            "drwxr-xr-x 5 root root    4096 Nov 24 19:02 \u001b[01;34m..\u001b[0m/\n",
            "-rw-r--r-- 1 root root 4912512 Nov 24 19:02 iden_split.txt\n",
            "-rw-r--r-- 1 root root  387503 Nov 24 19:02 val.pkl\n",
            "-rw-r--r-- 1 root root   40782 Nov 24 19:02 vox1_meta.csv\n"
          ],
          "name": "stdout"
        }
      ]
    },
    {
      "cell_type": "code",
      "metadata": {
        "id": "9T4u3UaAC3kQ",
        "colab": {
          "base_uri": "https://localhost:8080/"
        },
        "outputId": "93475415-f9b6-4e82-f2a5-dbd6c8a4c2b2"
      },
      "source": [
        "cd ./data"
      ],
      "execution_count": 23,
      "outputs": [
        {
          "output_type": "stream",
          "text": [
            "/content/VGGVox-PyTorch/data\n"
          ],
          "name": "stdout"
        }
      ]
    },
    {
      "cell_type": "markdown",
      "metadata": {
        "id": "XUOUjV6pONxN"
      },
      "source": [
        "* ## we create a directory /content/VGGVox-PyTorch/data/VoxCeleb1\n",
        "> ## to copy some VoxCeleb1 data to test"
      ]
    },
    {
      "cell_type": "code",
      "metadata": {
        "id": "Zy2ye4-OCu94",
        "colab": {
          "base_uri": "https://localhost:8080/"
        },
        "outputId": "2b4011c8-233d-408f-d752-1ee527ab02e8"
      },
      "source": [
        "! mkdir ./VoxCeleb1"
      ],
      "execution_count": 24,
      "outputs": [
        {
          "output_type": "stream",
          "text": [
            "mkdir: cannot create directory ‘./VoxCeleb1’: File exists\n"
          ],
          "name": "stdout"
        }
      ]
    },
    {
      "cell_type": "code",
      "metadata": {
        "id": "GafQHT5OCzig",
        "colab": {
          "base_uri": "https://localhost:8080/"
        },
        "outputId": "2a7cc441-6d0c-4b57-dc68-1f7483e940e9"
      },
      "source": [
        "cd ./VoxCeleb1/"
      ],
      "execution_count": 25,
      "outputs": [
        {
          "output_type": "stream",
          "text": [
            "/content/VGGVox-PyTorch/data/VoxCeleb1\n"
          ],
          "name": "stdout"
        }
      ]
    },
    {
      "cell_type": "markdown",
      "metadata": {
        "id": "nkR4wFAQOldO"
      },
      "source": [
        "* ## we create a directory for wav files /content/VGGVox-PyTorch/data/VoxCeleb1/wav"
      ]
    },
    {
      "cell_type": "code",
      "metadata": {
        "id": "hg1RDzr_dGWB"
      },
      "source": [
        "! mkdir ./wav"
      ],
      "execution_count": 26,
      "outputs": []
    },
    {
      "cell_type": "code",
      "metadata": {
        "id": "jGARmTsVdhaB",
        "colab": {
          "base_uri": "https://localhost:8080/",
          "height": 36
        },
        "outputId": "46068fcf-3bb2-43d9-8442-bf90ad5001b6"
      },
      "source": [
        "pwd"
      ],
      "execution_count": 27,
      "outputs": [
        {
          "output_type": "execute_result",
          "data": {
            "application/vnd.google.colaboratory.intrinsic+json": {
              "type": "string"
            },
            "text/plain": [
              "'/content/VGGVox-PyTorch/data/VoxCeleb1'"
            ]
          },
          "metadata": {
            "tags": []
          },
          "execution_count": 27
        }
      ]
    },
    {
      "cell_type": "markdown",
      "metadata": {
        "id": "Snl8glbenJjc"
      },
      "source": [
        "# DownLoad VoxCeleb1\n",
        "\n",
        "* # This is to download all, BUT it doen't fit!!! \n",
        "#### !wget --user=voxceleb1912 --password=MYPasswd http://www.robots.ox.ac.uk/~vgg/data/voxceleb/vox1a/vox1_dev_wav_partab\n",
        "* # so I try with a small subset in my drive\n",
        "\n",
        "> The data is in a zip file: **id10270.zip**\n"
      ]
    },
    {
      "cell_type": "code",
      "metadata": {
        "id": "PAML-Ycoa34y",
        "colab": {
          "base_uri": "https://localhost:8080/"
        },
        "outputId": "7a98a051-5674-4556-b1b6-a662dc7387d0"
      },
      "source": [
        "from google.colab import drive\n",
        "drive.mount('/content/drive')"
      ],
      "execution_count": 8,
      "outputs": [
        {
          "output_type": "stream",
          "text": [
            "Mounted at /content/drive\n"
          ],
          "name": "stdout"
        }
      ]
    },
    {
      "cell_type": "code",
      "metadata": {
        "id": "8APCoOeXbJRK",
        "colab": {
          "base_uri": "https://localhost:8080/"
        },
        "outputId": "086342ce-0f71-4679-e283-33bbedc279da"
      },
      "source": [
        "ls /content/drive/'My Drive'/VGGVOX_PyTorch"
      ],
      "execution_count": 28,
      "outputs": [
        {
          "output_type": "stream",
          "text": [
            "id10270.zip  VGGVox_1.ipynb\n"
          ],
          "name": "stdout"
        }
      ]
    },
    {
      "cell_type": "code",
      "metadata": {
        "colab": {
          "base_uri": "https://localhost:8080/"
        },
        "id": "Yd9IInNqpNPR",
        "outputId": "6b132913-6ea7-47c8-af67-dff13f01a276"
      },
      "source": [
        "ls /content/VGGVox-PyTorch/data/"
      ],
      "execution_count": 29,
      "outputs": [
        {
          "output_type": "stream",
          "text": [
            "iden_split.txt  val.pkl  vox1_meta.csv  \u001b[0m\u001b[01;34mVoxCeleb1\u001b[0m/  \u001b[01;34mwav\u001b[0m/\n"
          ],
          "name": "stdout"
        }
      ]
    },
    {
      "cell_type": "code",
      "metadata": {
        "id": "jjhpRU-EbV-5"
      },
      "source": [
        "cp /content/drive/'My Drive'/VGGVOX_PyTorch/id10270.zip /content/VGGVox-PyTorch/data/VoxCeleb1/wav/."
      ],
      "execution_count": 30,
      "outputs": []
    },
    {
      "cell_type": "code",
      "metadata": {
        "id": "gh2pzPcUbhdS",
        "colab": {
          "base_uri": "https://localhost:8080/"
        },
        "outputId": "7daf105b-536f-4e7a-a05b-e1093c289712"
      },
      "source": [
        "ls /content/VGGVox-PyTorch/data/VoxCeleb1/wav"
      ],
      "execution_count": 31,
      "outputs": [
        {
          "output_type": "stream",
          "text": [
            "id10270.zip\n"
          ],
          "name": "stdout"
        }
      ]
    },
    {
      "cell_type": "code",
      "metadata": {
        "id": "ckdTZ5yfdtYo",
        "colab": {
          "base_uri": "https://localhost:8080/"
        },
        "outputId": "ac2320c2-d7ec-4c6e-889e-2db63a112a88"
      },
      "source": [
        "cd /content/VGGVox-PyTorch/data/VoxCeleb1/wav"
      ],
      "execution_count": 32,
      "outputs": [
        {
          "output_type": "stream",
          "text": [
            "/content/VGGVox-PyTorch/data/VoxCeleb1/wav\n"
          ],
          "name": "stdout"
        }
      ]
    },
    {
      "cell_type": "code",
      "metadata": {
        "id": "alw_bRPzbo_r",
        "colab": {
          "base_uri": "https://localhost:8080/"
        },
        "outputId": "eaebc12a-2559-4a80-9eca-5f7b275fe123"
      },
      "source": [
        "!unzip id10270.zip"
      ],
      "execution_count": 33,
      "outputs": [
        {
          "output_type": "stream",
          "text": [
            "Archive:  id10270.zip\n",
            "   creating: id10270/\n",
            "   creating: id10270/5r0dWxy17C8/\n",
            "  inflating: id10270/5r0dWxy17C8/00001.wav  \n",
            "  inflating: id10270/5r0dWxy17C8/00002.wav  \n",
            "  inflating: id10270/5r0dWxy17C8/00003.wav  \n",
            "  inflating: id10270/5r0dWxy17C8/00004.wav  \n",
            "  inflating: id10270/5r0dWxy17C8/00005.wav  \n",
            "  inflating: id10270/5r0dWxy17C8/00006.wav  \n",
            "  inflating: id10270/5r0dWxy17C8/00007.wav  \n",
            "  inflating: id10270/5r0dWxy17C8/00008.wav  \n",
            "  inflating: id10270/5r0dWxy17C8/00009.wav  \n",
            "  inflating: id10270/5r0dWxy17C8/00010.wav  \n",
            "  inflating: id10270/5r0dWxy17C8/00011.wav  \n",
            "  inflating: id10270/5r0dWxy17C8/00012.wav  \n",
            "  inflating: id10270/5r0dWxy17C8/00013.wav  \n",
            "  inflating: id10270/5r0dWxy17C8/00014.wav  \n",
            "  inflating: id10270/5r0dWxy17C8/00015.wav  \n",
            "  inflating: id10270/5r0dWxy17C8/00016.wav  \n",
            "  inflating: id10270/5r0dWxy17C8/00017.wav  \n",
            "  inflating: id10270/5r0dWxy17C8/00018.wav  \n",
            "  inflating: id10270/5r0dWxy17C8/00019.wav  \n",
            "  inflating: id10270/5r0dWxy17C8/00020.wav  \n",
            "  inflating: id10270/5r0dWxy17C8/00021.wav  \n",
            "  inflating: id10270/5r0dWxy17C8/00022.wav  \n",
            "  inflating: id10270/5r0dWxy17C8/00023.wav  \n",
            "  inflating: id10270/5r0dWxy17C8/00024.wav  \n",
            "  inflating: id10270/5r0dWxy17C8/00025.wav  \n",
            "  inflating: id10270/5r0dWxy17C8/00026.wav  \n",
            "  inflating: id10270/5r0dWxy17C8/00027.wav  \n",
            "   creating: id10270/5sJomL_D0_g/\n",
            "  inflating: id10270/5sJomL_D0_g/00001.wav  \n",
            "  inflating: id10270/5sJomL_D0_g/00002.wav  \n",
            "   creating: id10270/8jEAjG6SegY/\n",
            "  inflating: id10270/8jEAjG6SegY/00001.wav  \n",
            "  inflating: id10270/8jEAjG6SegY/00002.wav  \n",
            "  inflating: id10270/8jEAjG6SegY/00003.wav  \n",
            "  inflating: id10270/8jEAjG6SegY/00004.wav  \n",
            "  inflating: id10270/8jEAjG6SegY/00005.wav  \n",
            "  inflating: id10270/8jEAjG6SegY/00006.wav  \n",
            "  inflating: id10270/8jEAjG6SegY/00007.wav  \n",
            "  inflating: id10270/8jEAjG6SegY/00008.wav  \n",
            "  inflating: id10270/8jEAjG6SegY/00009.wav  \n",
            "  inflating: id10270/8jEAjG6SegY/00010.wav  \n",
            "  inflating: id10270/8jEAjG6SegY/00011.wav  \n",
            "  inflating: id10270/8jEAjG6SegY/00012.wav  \n",
            "  inflating: id10270/8jEAjG6SegY/00013.wav  \n",
            "  inflating: id10270/8jEAjG6SegY/00014.wav  \n",
            "  inflating: id10270/8jEAjG6SegY/00015.wav  \n",
            "  inflating: id10270/8jEAjG6SegY/00016.wav  \n",
            "  inflating: id10270/8jEAjG6SegY/00017.wav  \n",
            "  inflating: id10270/8jEAjG6SegY/00018.wav  \n",
            "  inflating: id10270/8jEAjG6SegY/00019.wav  \n",
            "  inflating: id10270/8jEAjG6SegY/00020.wav  \n",
            "  inflating: id10270/8jEAjG6SegY/00021.wav  \n",
            "  inflating: id10270/8jEAjG6SegY/00022.wav  \n",
            "  inflating: id10270/8jEAjG6SegY/00023.wav  \n",
            "  inflating: id10270/8jEAjG6SegY/00024.wav  \n",
            "  inflating: id10270/8jEAjG6SegY/00025.wav  \n",
            "  inflating: id10270/8jEAjG6SegY/00026.wav  \n",
            "  inflating: id10270/8jEAjG6SegY/00027.wav  \n",
            "  inflating: id10270/8jEAjG6SegY/00028.wav  \n",
            "  inflating: id10270/8jEAjG6SegY/00029.wav  \n",
            "  inflating: id10270/8jEAjG6SegY/00030.wav  \n",
            "  inflating: id10270/8jEAjG6SegY/00031.wav  \n",
            "  inflating: id10270/8jEAjG6SegY/00032.wav  \n",
            "  inflating: id10270/8jEAjG6SegY/00033.wav  \n",
            "  inflating: id10270/8jEAjG6SegY/00034.wav  \n",
            "  inflating: id10270/8jEAjG6SegY/00035.wav  \n",
            "  inflating: id10270/8jEAjG6SegY/00036.wav  \n",
            "  inflating: id10270/8jEAjG6SegY/00037.wav  \n",
            "  inflating: id10270/8jEAjG6SegY/00038.wav  \n",
            "   creating: id10270/GWXujl-xAVM/\n",
            "  inflating: id10270/GWXujl-xAVM/00001.wav  \n",
            "  inflating: id10270/GWXujl-xAVM/00002.wav  \n",
            "  inflating: id10270/GWXujl-xAVM/00003.wav  \n",
            "  inflating: id10270/GWXujl-xAVM/00004.wav  \n",
            "  inflating: id10270/GWXujl-xAVM/00005.wav  \n",
            "  inflating: id10270/GWXujl-xAVM/00006.wav  \n",
            "  inflating: id10270/GWXujl-xAVM/00007.wav  \n",
            "  inflating: id10270/GWXujl-xAVM/00008.wav  \n",
            "  inflating: id10270/GWXujl-xAVM/00009.wav  \n",
            "  inflating: id10270/GWXujl-xAVM/00010.wav  \n",
            "  inflating: id10270/GWXujl-xAVM/00011.wav  \n",
            "  inflating: id10270/GWXujl-xAVM/00012.wav  \n",
            "  inflating: id10270/GWXujl-xAVM/00013.wav  \n",
            "  inflating: id10270/GWXujl-xAVM/00014.wav  \n",
            "  inflating: id10270/GWXujl-xAVM/00015.wav  \n",
            "  inflating: id10270/GWXujl-xAVM/00016.wav  \n",
            "  inflating: id10270/GWXujl-xAVM/00017.wav  \n",
            "  inflating: id10270/GWXujl-xAVM/00018.wav  \n",
            "  inflating: id10270/GWXujl-xAVM/00019.wav  \n",
            "  inflating: id10270/GWXujl-xAVM/00020.wav  \n",
            "  inflating: id10270/GWXujl-xAVM/00021.wav  \n",
            "  inflating: id10270/GWXujl-xAVM/00022.wav  \n",
            "  inflating: id10270/GWXujl-xAVM/00023.wav  \n",
            "  inflating: id10270/GWXujl-xAVM/00024.wav  \n",
            "  inflating: id10270/GWXujl-xAVM/00025.wav  \n",
            "  inflating: id10270/GWXujl-xAVM/00026.wav  \n",
            "  inflating: id10270/GWXujl-xAVM/00027.wav  \n",
            "  inflating: id10270/GWXujl-xAVM/00028.wav  \n",
            "  inflating: id10270/GWXujl-xAVM/00029.wav  \n",
            "  inflating: id10270/GWXujl-xAVM/00030.wav  \n",
            "  inflating: id10270/GWXujl-xAVM/00031.wav  \n",
            "  inflating: id10270/GWXujl-xAVM/00032.wav  \n",
            "  inflating: id10270/GWXujl-xAVM/00033.wav  \n",
            "  inflating: id10270/GWXujl-xAVM/00034.wav  \n",
            "  inflating: id10270/GWXujl-xAVM/00035.wav  \n",
            "  inflating: id10270/GWXujl-xAVM/00036.wav  \n",
            "  inflating: id10270/GWXujl-xAVM/00037.wav  \n",
            "  inflating: id10270/GWXujl-xAVM/00038.wav  \n",
            "  inflating: id10270/GWXujl-xAVM/00039.wav  \n",
            "  inflating: id10270/GWXujl-xAVM/00040.wav  \n",
            "  inflating: id10270/GWXujl-xAVM/00041.wav  \n",
            "  inflating: id10270/GWXujl-xAVM/00042.wav  \n",
            "  inflating: id10270/GWXujl-xAVM/00043.wav  \n",
            "  inflating: id10270/GWXujl-xAVM/00044.wav  \n",
            "  inflating: id10270/GWXujl-xAVM/00045.wav  \n",
            "  inflating: id10270/GWXujl-xAVM/00046.wav  \n",
            "  inflating: id10270/GWXujl-xAVM/00047.wav  \n",
            "  inflating: id10270/GWXujl-xAVM/00048.wav  \n",
            "  inflating: id10270/GWXujl-xAVM/00049.wav  \n",
            "  inflating: id10270/GWXujl-xAVM/00050.wav  \n",
            "  inflating: id10270/GWXujl-xAVM/00051.wav  \n",
            "  inflating: id10270/GWXujl-xAVM/00052.wav  \n",
            "  inflating: id10270/GWXujl-xAVM/00053.wav  \n",
            "  inflating: id10270/GWXujl-xAVM/00054.wav  \n",
            "  inflating: id10270/GWXujl-xAVM/00055.wav  \n",
            "   creating: id10270/OhfKF8FSq3Y/\n",
            "  inflating: id10270/OhfKF8FSq3Y/00001.wav  \n",
            "  inflating: id10270/OhfKF8FSq3Y/00002.wav  \n",
            "  inflating: id10270/OhfKF8FSq3Y/00003.wav  \n",
            "  inflating: id10270/OhfKF8FSq3Y/00004.wav  \n",
            "  inflating: id10270/OhfKF8FSq3Y/00005.wav  \n",
            "  inflating: id10270/OhfKF8FSq3Y/00006.wav  \n",
            "  inflating: id10270/OhfKF8FSq3Y/00007.wav  \n",
            "  inflating: id10270/OhfKF8FSq3Y/00008.wav  \n",
            "   creating: id10270/OmSWVqpb-N0/\n",
            "  inflating: id10270/OmSWVqpb-N0/00001.wav  \n",
            "   creating: id10270/OXdd7Gmluts/\n",
            "  inflating: id10270/OXdd7Gmluts/00001.wav  \n",
            "  inflating: id10270/OXdd7Gmluts/00002.wav  \n",
            "  inflating: id10270/OXdd7Gmluts/00003.wav  \n",
            "   creating: id10270/PXmaB6Ui0fE/\n",
            "  inflating: id10270/PXmaB6Ui0fE/00001.wav  \n",
            "   creating: id10270/x6uYqmx31kE/\n",
            "  inflating: id10270/x6uYqmx31kE/00001.wav  \n",
            "  inflating: id10270/x6uYqmx31kE/00002.wav  \n",
            "  inflating: id10270/x6uYqmx31kE/00003.wav  \n",
            "  inflating: id10270/x6uYqmx31kE/00004.wav  \n",
            "  inflating: id10270/x6uYqmx31kE/00005.wav  \n",
            "  inflating: id10270/x6uYqmx31kE/00006.wav  \n",
            "  inflating: id10270/x6uYqmx31kE/00007.wav  \n",
            "  inflating: id10270/x6uYqmx31kE/00008.wav  \n",
            "  inflating: id10270/x6uYqmx31kE/00009.wav  \n",
            "  inflating: id10270/x6uYqmx31kE/00010.wav  \n",
            "  inflating: id10270/x6uYqmx31kE/00011.wav  \n",
            "  inflating: id10270/x6uYqmx31kE/00012.wav  \n",
            "  inflating: id10270/x6uYqmx31kE/00013.wav  \n",
            "  inflating: id10270/x6uYqmx31kE/00014.wav  \n",
            "  inflating: id10270/x6uYqmx31kE/00015.wav  \n",
            "  inflating: id10270/x6uYqmx31kE/00016.wav  \n",
            "  inflating: id10270/x6uYqmx31kE/00017.wav  \n",
            "  inflating: id10270/x6uYqmx31kE/00018.wav  \n",
            "  inflating: id10270/x6uYqmx31kE/00019.wav  \n",
            "  inflating: id10270/x6uYqmx31kE/00020.wav  \n",
            "   creating: id10270/zjwijMp0Qyw/\n",
            "  inflating: id10270/zjwijMp0Qyw/00001.wav  \n",
            "  inflating: id10270/zjwijMp0Qyw/00002.wav  \n",
            "  inflating: id10270/zjwijMp0Qyw/00003.wav  \n"
          ],
          "name": "stdout"
        }
      ]
    },
    {
      "cell_type": "code",
      "metadata": {
        "id": "5oYXHos0b9gx"
      },
      "source": [
        "! rm *.zip"
      ],
      "execution_count": 34,
      "outputs": []
    },
    {
      "cell_type": "code",
      "metadata": {
        "id": "PD6mJJlAd2IQ",
        "colab": {
          "base_uri": "https://localhost:8080/"
        },
        "outputId": "5bd1357e-350d-4b2b-99cd-f2ed5afca75e"
      },
      "source": [
        "cd .."
      ],
      "execution_count": 35,
      "outputs": [
        {
          "output_type": "stream",
          "text": [
            "/content/VGGVox-PyTorch/data/VoxCeleb1\n"
          ],
          "name": "stdout"
        }
      ]
    },
    {
      "cell_type": "code",
      "metadata": {
        "id": "LiWCm1bddy0J",
        "colab": {
          "base_uri": "https://localhost:8080/"
        },
        "outputId": "d1201066-69f5-421e-c4c3-a4dbd0c71774"
      },
      "source": [
        "ls ./wav"
      ],
      "execution_count": 36,
      "outputs": [
        {
          "output_type": "stream",
          "text": [
            "\u001b[0m\u001b[01;34mid10270\u001b[0m/\n"
          ],
          "name": "stdout"
        }
      ]
    },
    {
      "cell_type": "markdown",
      "metadata": {
        "id": "8Z3zURQZQKBX"
      },
      "source": [
        "---\n",
        "---\n",
        "\n",
        "\n",
        "# Now we are going to extract the embeddings from these wav files"
      ]
    },
    {
      "cell_type": "markdown",
      "metadata": {
        "id": "zF4cu8J8RH--"
      },
      "source": [
        "* ## **IT IS IMPORTANT TO MOVE to the VGGVox-PyTorch directory**"
      ]
    },
    {
      "cell_type": "code",
      "metadata": {
        "colab": {
          "base_uri": "https://localhost:8080/"
        },
        "id": "jZSEf3RiQ5ke",
        "outputId": "51807029-cdd3-4104-b75f-3174209af678"
      },
      "source": [
        "cd /content/VGGVox-PyTorch"
      ],
      "execution_count": 37,
      "outputs": [
        {
          "output_type": "stream",
          "text": [
            "/content/VGGVox-PyTorch\n"
          ],
          "name": "stdout"
        }
      ]
    },
    {
      "cell_type": "code",
      "metadata": {
        "id": "_QHRGJi-eDrY",
        "colab": {
          "base_uri": "https://localhost:8080/",
          "height": 36
        },
        "outputId": "cabaab2b-336e-422a-fa37-d6297c3b1fd9"
      },
      "source": [
        "pwd"
      ],
      "execution_count": 38,
      "outputs": [
        {
          "output_type": "execute_result",
          "data": {
            "application/vnd.google.colaboratory.intrinsic+json": {
              "type": "string"
            },
            "text/plain": [
              "'/content/VGGVox-PyTorch'"
            ]
          },
          "metadata": {
            "tags": []
          },
          "execution_count": 38
        }
      ]
    },
    {
      "cell_type": "code",
      "metadata": {
        "id": "LWSas0T1oNtl"
      },
      "source": [
        "import os\n",
        "import numpy as np\n",
        "import pandas as pd\n",
        "import torch\n",
        "from torch.utils.data import Subset, Dataset, DataLoader\n",
        "from tqdm.auto import tqdm\n",
        "from vggm import VGGM\n",
        "import argparse\n",
        "from train import AudioDataset, accuracy, ppdf, LOCAL_DATA_DIR, MODEL_DIR\n"
      ],
      "execution_count": 39,
      "outputs": []
    },
    {
      "cell_type": "code",
      "metadata": {
        "id": "ZkWFUyEloQWL",
        "colab": {
          "base_uri": "https://localhost:8080/"
        },
        "outputId": "610ab140-f068-4cd0-a560-b6563113fdcf"
      },
      "source": [
        "LOCAL_DATA_DIR = '/content/VGGVox-PyTorch/data/'\n",
        "\n",
        "print(LOCAL_DATA_DIR)"
      ],
      "execution_count": 40,
      "outputs": [
        {
          "output_type": "stream",
          "text": [
            "/content/VGGVox-PyTorch/data/\n"
          ],
          "name": "stdout"
        }
      ]
    },
    {
      "cell_type": "markdown",
      "metadata": {
        "id": "3yLtS7XJRfX9"
      },
      "source": [
        "* ## This csv contains the IDs of VoxCeleb : vox1_meta.csv\n",
        "\n"
      ]
    },
    {
      "cell_type": "code",
      "metadata": {
        "id": "o3eV18Jcn_O8"
      },
      "source": [
        "\n",
        "df_meta=pd.read_csv(LOCAL_DATA_DIR+\"vox1_meta.csv\",sep=\"\\t\")"
      ],
      "execution_count": 41,
      "outputs": []
    },
    {
      "cell_type": "code",
      "metadata": {
        "id": "Ltvg0GJhoVXF",
        "colab": {
          "base_uri": "https://localhost:8080/",
          "height": 363
        },
        "outputId": "248f3225-e003-424b-bb12-e7861b79d39f"
      },
      "source": [
        "df_meta.head(10)"
      ],
      "execution_count": 42,
      "outputs": [
        {
          "output_type": "execute_result",
          "data": {
            "text/html": [
              "<div>\n",
              "<style scoped>\n",
              "    .dataframe tbody tr th:only-of-type {\n",
              "        vertical-align: middle;\n",
              "    }\n",
              "\n",
              "    .dataframe tbody tr th {\n",
              "        vertical-align: top;\n",
              "    }\n",
              "\n",
              "    .dataframe thead th {\n",
              "        text-align: right;\n",
              "    }\n",
              "</style>\n",
              "<table border=\"1\" class=\"dataframe\">\n",
              "  <thead>\n",
              "    <tr style=\"text-align: right;\">\n",
              "      <th></th>\n",
              "      <th>VoxCeleb1 ID</th>\n",
              "      <th>VGGFace1 ID</th>\n",
              "      <th>Gender</th>\n",
              "      <th>Nationality</th>\n",
              "      <th>Set</th>\n",
              "    </tr>\n",
              "  </thead>\n",
              "  <tbody>\n",
              "    <tr>\n",
              "      <th>0</th>\n",
              "      <td>id10001</td>\n",
              "      <td>A.J._Buckley</td>\n",
              "      <td>m</td>\n",
              "      <td>Ireland</td>\n",
              "      <td>dev</td>\n",
              "    </tr>\n",
              "    <tr>\n",
              "      <th>1</th>\n",
              "      <td>id10002</td>\n",
              "      <td>A.R._Rahman</td>\n",
              "      <td>m</td>\n",
              "      <td>India</td>\n",
              "      <td>dev</td>\n",
              "    </tr>\n",
              "    <tr>\n",
              "      <th>2</th>\n",
              "      <td>id10003</td>\n",
              "      <td>Aamir_Khan</td>\n",
              "      <td>m</td>\n",
              "      <td>India</td>\n",
              "      <td>dev</td>\n",
              "    </tr>\n",
              "    <tr>\n",
              "      <th>3</th>\n",
              "      <td>id10004</td>\n",
              "      <td>Aaron_Tveit</td>\n",
              "      <td>m</td>\n",
              "      <td>USA</td>\n",
              "      <td>dev</td>\n",
              "    </tr>\n",
              "    <tr>\n",
              "      <th>4</th>\n",
              "      <td>id10005</td>\n",
              "      <td>Aaron_Yoo</td>\n",
              "      <td>m</td>\n",
              "      <td>USA</td>\n",
              "      <td>dev</td>\n",
              "    </tr>\n",
              "    <tr>\n",
              "      <th>5</th>\n",
              "      <td>id10006</td>\n",
              "      <td>Abbie_Cornish</td>\n",
              "      <td>f</td>\n",
              "      <td>Australia</td>\n",
              "      <td>dev</td>\n",
              "    </tr>\n",
              "    <tr>\n",
              "      <th>6</th>\n",
              "      <td>id10007</td>\n",
              "      <td>Abigail_Breslin</td>\n",
              "      <td>f</td>\n",
              "      <td>USA</td>\n",
              "      <td>dev</td>\n",
              "    </tr>\n",
              "    <tr>\n",
              "      <th>7</th>\n",
              "      <td>id10008</td>\n",
              "      <td>Abigail_Spencer</td>\n",
              "      <td>f</td>\n",
              "      <td>USA</td>\n",
              "      <td>dev</td>\n",
              "    </tr>\n",
              "    <tr>\n",
              "      <th>8</th>\n",
              "      <td>id10009</td>\n",
              "      <td>Adam_Beach</td>\n",
              "      <td>m</td>\n",
              "      <td>Canada</td>\n",
              "      <td>dev</td>\n",
              "    </tr>\n",
              "    <tr>\n",
              "      <th>9</th>\n",
              "      <td>id10010</td>\n",
              "      <td>Adam_Brody</td>\n",
              "      <td>m</td>\n",
              "      <td>USA</td>\n",
              "      <td>dev</td>\n",
              "    </tr>\n",
              "  </tbody>\n",
              "</table>\n",
              "</div>"
            ],
            "text/plain": [
              "  VoxCeleb1 ID      VGGFace1 ID Gender Nationality  Set\n",
              "0      id10001     A.J._Buckley      m     Ireland  dev\n",
              "1      id10002      A.R._Rahman      m       India  dev\n",
              "2      id10003       Aamir_Khan      m       India  dev\n",
              "3      id10004      Aaron_Tveit      m         USA  dev\n",
              "4      id10005        Aaron_Yoo      m         USA  dev\n",
              "5      id10006    Abbie_Cornish      f   Australia  dev\n",
              "6      id10007  Abigail_Breslin      f         USA  dev\n",
              "7      id10008  Abigail_Spencer      f         USA  dev\n",
              "8      id10009       Adam_Beach      m      Canada  dev\n",
              "9      id10010       Adam_Brody      m         USA  dev"
            ]
          },
          "metadata": {
            "tags": []
          },
          "execution_count": 42
        }
      ]
    },
    {
      "cell_type": "markdown",
      "metadata": {
        "id": "k91ZSq38R0dH"
      },
      "source": [
        "# This text file contains wav files root, labels, train/devel/test : iden_split.txt"
      ]
    },
    {
      "cell_type": "code",
      "metadata": {
        "id": "igdw_BCXoifs"
      },
      "source": [
        "df_F=pd.read_csv(LOCAL_DATA_DIR+\"iden_split.txt\", sep=\" \", names=[\"Set\",\"Path\"] )\n",
        "df_F=ppdf(df_F)"
      ],
      "execution_count": 43,
      "outputs": []
    },
    {
      "cell_type": "code",
      "metadata": {
        "id": "VemNXIP-omlb",
        "colab": {
          "base_uri": "https://localhost:8080/",
          "height": 363
        },
        "outputId": "e1520b82-606a-4d4f-cbc0-df378c28f0d1"
      },
      "source": [
        "df_F.head(10)"
      ],
      "execution_count": 44,
      "outputs": [
        {
          "output_type": "execute_result",
          "data": {
            "text/html": [
              "<div>\n",
              "<style scoped>\n",
              "    .dataframe tbody tr th:only-of-type {\n",
              "        vertical-align: middle;\n",
              "    }\n",
              "\n",
              "    .dataframe tbody tr th {\n",
              "        vertical-align: top;\n",
              "    }\n",
              "\n",
              "    .dataframe thead th {\n",
              "        text-align: right;\n",
              "    }\n",
              "</style>\n",
              "<table border=\"1\" class=\"dataframe\">\n",
              "  <thead>\n",
              "    <tr style=\"text-align: right;\">\n",
              "      <th></th>\n",
              "      <th>Set</th>\n",
              "      <th>Path</th>\n",
              "      <th>Label</th>\n",
              "    </tr>\n",
              "  </thead>\n",
              "  <tbody>\n",
              "    <tr>\n",
              "      <th>0</th>\n",
              "      <td>3</td>\n",
              "      <td>wav/id10003/na8-QEFmj44/00003.wav</td>\n",
              "      <td>10003.0</td>\n",
              "    </tr>\n",
              "    <tr>\n",
              "      <th>1</th>\n",
              "      <td>1</td>\n",
              "      <td>wav/id10003/tCq2LcKO6xY/00002.wav</td>\n",
              "      <td>10003.0</td>\n",
              "    </tr>\n",
              "    <tr>\n",
              "      <th>2</th>\n",
              "      <td>1</td>\n",
              "      <td>wav/id10003/K5zRxtXc27s/00001.wav</td>\n",
              "      <td>10003.0</td>\n",
              "    </tr>\n",
              "    <tr>\n",
              "      <th>3</th>\n",
              "      <td>1</td>\n",
              "      <td>wav/id10003/bDxy7bnj_bc/00004.wav</td>\n",
              "      <td>10003.0</td>\n",
              "    </tr>\n",
              "    <tr>\n",
              "      <th>4</th>\n",
              "      <td>1</td>\n",
              "      <td>wav/id10003/E_6MjfYr0sQ/00011.wav</td>\n",
              "      <td>10003.0</td>\n",
              "    </tr>\n",
              "    <tr>\n",
              "      <th>5</th>\n",
              "      <td>1</td>\n",
              "      <td>wav/id10003/5ablueV_1tw/00010.wav</td>\n",
              "      <td>10003.0</td>\n",
              "    </tr>\n",
              "    <tr>\n",
              "      <th>6</th>\n",
              "      <td>1</td>\n",
              "      <td>wav/id10003/BQxxhq4539A/00016.wav</td>\n",
              "      <td>10003.0</td>\n",
              "    </tr>\n",
              "    <tr>\n",
              "      <th>7</th>\n",
              "      <td>1</td>\n",
              "      <td>wav/id10003/yzIXg93UOIM/00029.wav</td>\n",
              "      <td>10003.0</td>\n",
              "    </tr>\n",
              "    <tr>\n",
              "      <th>8</th>\n",
              "      <td>1</td>\n",
              "      <td>wav/id10003/BQxxhq4539A/00007.wav</td>\n",
              "      <td>10003.0</td>\n",
              "    </tr>\n",
              "    <tr>\n",
              "      <th>9</th>\n",
              "      <td>1</td>\n",
              "      <td>wav/id10003/bDxy7bnj_bc/00006.wav</td>\n",
              "      <td>10003.0</td>\n",
              "    </tr>\n",
              "  </tbody>\n",
              "</table>\n",
              "</div>"
            ],
            "text/plain": [
              "   Set                               Path    Label\n",
              "0    3  wav/id10003/na8-QEFmj44/00003.wav  10003.0\n",
              "1    1  wav/id10003/tCq2LcKO6xY/00002.wav  10003.0\n",
              "2    1  wav/id10003/K5zRxtXc27s/00001.wav  10003.0\n",
              "3    1  wav/id10003/bDxy7bnj_bc/00004.wav  10003.0\n",
              "4    1  wav/id10003/E_6MjfYr0sQ/00011.wav  10003.0\n",
              "5    1  wav/id10003/5ablueV_1tw/00010.wav  10003.0\n",
              "6    1  wav/id10003/BQxxhq4539A/00016.wav  10003.0\n",
              "7    1  wav/id10003/yzIXg93UOIM/00029.wav  10003.0\n",
              "8    1  wav/id10003/BQxxhq4539A/00007.wav  10003.0\n",
              "9    1  wav/id10003/bDxy7bnj_bc/00006.wav  10003.0"
            ]
          },
          "metadata": {
            "tags": []
          },
          "execution_count": 44
        }
      ]
    },
    {
      "cell_type": "markdown",
      "metadata": {
        "id": "fWvvkQ81cqGh"
      },
      "source": [
        "# We select only the available data that we have: corresponds to this ID 10270 "
      ]
    },
    {
      "cell_type": "code",
      "metadata": {
        "id": "vIXeohKkcohY",
        "colab": {
          "base_uri": "https://localhost:8080/",
          "height": 206
        },
        "outputId": "8451fd30-b784-4d9a-891c-205a860e3d57"
      },
      "source": [
        "df_10270 = df_F[(df_F['Set']==3 ) &  (df_F['Label']==10270.0 )]\n",
        "\n",
        "df_10270.head(5)"
      ],
      "execution_count": 46,
      "outputs": [
        {
          "output_type": "execute_result",
          "data": {
            "text/html": [
              "<div>\n",
              "<style scoped>\n",
              "    .dataframe tbody tr th:only-of-type {\n",
              "        vertical-align: middle;\n",
              "    }\n",
              "\n",
              "    .dataframe tbody tr th {\n",
              "        vertical-align: top;\n",
              "    }\n",
              "\n",
              "    .dataframe thead th {\n",
              "        text-align: right;\n",
              "    }\n",
              "</style>\n",
              "<table border=\"1\" class=\"dataframe\">\n",
              "  <thead>\n",
              "    <tr style=\"text-align: right;\">\n",
              "      <th></th>\n",
              "      <th>Set</th>\n",
              "      <th>Path</th>\n",
              "      <th>Label</th>\n",
              "    </tr>\n",
              "  </thead>\n",
              "  <tbody>\n",
              "    <tr>\n",
              "      <th>32146</th>\n",
              "      <td>3</td>\n",
              "      <td>wav/id10270/x6uYqmx31kE/00006.wav</td>\n",
              "      <td>10270.0</td>\n",
              "    </tr>\n",
              "    <tr>\n",
              "      <th>32155</th>\n",
              "      <td>3</td>\n",
              "      <td>wav/id10270/x6uYqmx31kE/00009.wav</td>\n",
              "      <td>10270.0</td>\n",
              "    </tr>\n",
              "    <tr>\n",
              "      <th>32158</th>\n",
              "      <td>3</td>\n",
              "      <td>wav/id10270/x6uYqmx31kE/00011.wav</td>\n",
              "      <td>10270.0</td>\n",
              "    </tr>\n",
              "    <tr>\n",
              "      <th>32167</th>\n",
              "      <td>3</td>\n",
              "      <td>wav/id10270/x6uYqmx31kE/00012.wav</td>\n",
              "      <td>10270.0</td>\n",
              "    </tr>\n",
              "    <tr>\n",
              "      <th>32169</th>\n",
              "      <td>3</td>\n",
              "      <td>wav/id10270/x6uYqmx31kE/00019.wav</td>\n",
              "      <td>10270.0</td>\n",
              "    </tr>\n",
              "  </tbody>\n",
              "</table>\n",
              "</div>"
            ],
            "text/plain": [
              "       Set                               Path    Label\n",
              "32146    3  wav/id10270/x6uYqmx31kE/00006.wav  10270.0\n",
              "32155    3  wav/id10270/x6uYqmx31kE/00009.wav  10270.0\n",
              "32158    3  wav/id10270/x6uYqmx31kE/00011.wav  10270.0\n",
              "32167    3  wav/id10270/x6uYqmx31kE/00012.wav  10270.0\n",
              "32169    3  wav/id10270/x6uYqmx31kE/00019.wav  10270.0"
            ]
          },
          "metadata": {
            "tags": []
          },
          "execution_count": 46
        }
      ]
    },
    {
      "cell_type": "markdown",
      "metadata": {
        "id": "sVws4axKSV8f"
      },
      "source": [
        "* # NOTE the DATA_DIR and that wav is in the txt file"
      ]
    },
    {
      "cell_type": "code",
      "metadata": {
        "id": "HGW1Ox4LcaCy"
      },
      "source": [
        "DATA_DIR = '/content/VGGVox-PyTorch/data/VoxCeleb1/'"
      ],
      "execution_count": 47,
      "outputs": []
    },
    {
      "cell_type": "code",
      "metadata": {
        "id": "Jb9nfY_QouEz",
        "colab": {
          "base_uri": "https://localhost:8080/"
        },
        "outputId": "8d49f1c7-194a-4b27-d0af-b0d10c0619fc"
      },
      "source": [
        "ls /content/VGGVox-PyTorch/data/VoxCeleb1/"
      ],
      "execution_count": 48,
      "outputs": [
        {
          "output_type": "stream",
          "text": [
            "\u001b[0m\u001b[01;34mwav\u001b[0m/\n"
          ],
          "name": "stdout"
        }
      ]
    },
    {
      "cell_type": "code",
      "metadata": {
        "id": "MbIv7T4Ko6Jd"
      },
      "source": [
        "#Datasets={\n",
        "#        \"test\":AudioDataset(df_F[df_F['Set']==3], DATA_DIR, is_train=False)}\n",
        "\n",
        "Datasets={\n",
        "        \"test\":AudioDataset(df_10270, DATA_DIR, is_train=False)}"
      ],
      "execution_count": 49,
      "outputs": []
    },
    {
      "cell_type": "code",
      "metadata": {
        "id": "hOH2JlGie1jg"
      },
      "source": [
        "Dataloaders={i:DataLoader(Datasets[i], batch_size=1, shuffle=False, num_workers=2) for i in Datasets}"
      ],
      "execution_count": 50,
      "outputs": []
    },
    {
      "cell_type": "code",
      "metadata": {
        "id": "yDyzVMNee5XI",
        "colab": {
          "base_uri": "https://localhost:8080/"
        },
        "outputId": "7786a78a-5449-4c22-ec5f-df78745ea726"
      },
      "source": [
        "device = torch.device(\"cuda\" if torch.cuda.is_available() else \"cpu\")\n",
        "print(device)"
      ],
      "execution_count": 51,
      "outputs": [
        {
          "output_type": "stream",
          "text": [
            "cuda\n"
          ],
          "name": "stdout"
        }
      ]
    },
    {
      "cell_type": "code",
      "metadata": {
        "id": "0nax1YSFfAsQ",
        "colab": {
          "base_uri": "https://localhost:8080/",
          "height": 36
        },
        "outputId": "b0fd95a3-b138-453e-e3c0-b10903221ea2"
      },
      "source": [
        "MODEL_DIR"
      ],
      "execution_count": 52,
      "outputs": [
        {
          "output_type": "execute_result",
          "data": {
            "application/vnd.google.colaboratory.intrinsic+json": {
              "type": "string"
            },
            "text/plain": [
              "'models/'"
            ]
          },
          "metadata": {
            "tags": []
          },
          "execution_count": 52
        }
      ]
    },
    {
      "cell_type": "code",
      "metadata": {
        "id": "kSZ77XTafLU3",
        "colab": {
          "base_uri": "https://localhost:8080/"
        },
        "outputId": "cab93024-626f-41a2-861e-607bb7f160d3"
      },
      "source": [
        "cd /content/VGGVox-PyTorch/"
      ],
      "execution_count": 53,
      "outputs": [
        {
          "output_type": "stream",
          "text": [
            "/content/VGGVox-PyTorch\n"
          ],
          "name": "stdout"
        }
      ]
    },
    {
      "cell_type": "code",
      "metadata": {
        "id": "3h_XevJ5fGSi",
        "colab": {
          "base_uri": "https://localhost:8080/"
        },
        "outputId": "53dec89f-00c9-40eb-b4e8-823283130bec"
      },
      "source": [
        "ls ./models"
      ],
      "execution_count": 54,
      "outputs": [
        {
          "output_type": "stream",
          "text": [
            "VGGM300_BEST_140_81.99.pth\n"
          ],
          "name": "stdout"
        }
      ]
    },
    {
      "cell_type": "code",
      "metadata": {
        "id": "sh_O63fHpRG8",
        "colab": {
          "base_uri": "https://localhost:8080/"
        },
        "outputId": "5446399e-f5d2-49bd-b565-59af90e7435f"
      },
      "source": [
        "model=VGGM(1251)\n",
        "#model.load_state_dict(torch.load(DATA_DIR+\"/VGGMVAL_BEST_149_80.84.pth\", map_location=device))\n",
        "model.load_state_dict(torch.load(MODEL_DIR+\"VGGM300_BEST_140_81.99.pth\", map_location=device))\n",
        "model.to(device)\n",
        "model.eval()"
      ],
      "execution_count": 55,
      "outputs": [
        {
          "output_type": "execute_result",
          "data": {
            "text/plain": [
              "VGGM(\n",
              "  (features): Sequential(\n",
              "    (conv1): Conv2d(1, 96, kernel_size=(7, 7), stride=(2, 2), padding=(1, 1))\n",
              "    (bn1): BatchNorm2d(96, eps=1e-05, momentum=0.5, affine=True, track_running_stats=True)\n",
              "    (relu1): ReLU()\n",
              "    (mpool1): MaxPool2d(kernel_size=(3, 3), stride=(2, 2), padding=0, dilation=1, ceil_mode=False)\n",
              "    (conv2): Conv2d(96, 256, kernel_size=(5, 5), stride=(2, 2), padding=(1, 1))\n",
              "    (bn2): BatchNorm2d(256, eps=1e-05, momentum=0.5, affine=True, track_running_stats=True)\n",
              "    (relu2): ReLU()\n",
              "    (mpool2): MaxPool2d(kernel_size=(3, 3), stride=(2, 2), padding=0, dilation=1, ceil_mode=False)\n",
              "    (conv3): Conv2d(256, 384, kernel_size=(3, 3), stride=(1, 1), padding=(1, 1))\n",
              "    (bn3): BatchNorm2d(384, eps=1e-05, momentum=0.5, affine=True, track_running_stats=True)\n",
              "    (relu3): ReLU()\n",
              "    (conv4): Conv2d(384, 256, kernel_size=(3, 3), stride=(1, 1), padding=(1, 1))\n",
              "    (bn4): BatchNorm2d(256, eps=1e-05, momentum=0.5, affine=True, track_running_stats=True)\n",
              "    (relu4): ReLU()\n",
              "    (conv5): Conv2d(256, 256, kernel_size=(3, 3), stride=(1, 1), padding=(1, 1))\n",
              "    (bn5): BatchNorm2d(256, eps=1e-05, momentum=0.5, affine=True, track_running_stats=True)\n",
              "    (relu5): ReLU()\n",
              "    (mpool5): MaxPool2d(kernel_size=(5, 3), stride=(3, 2), padding=0, dilation=1, ceil_mode=False)\n",
              "    (fc6): Conv2d(256, 4096, kernel_size=(9, 1), stride=(1, 1))\n",
              "    (bn6): BatchNorm2d(4096, eps=1e-05, momentum=0.5, affine=True, track_running_stats=True)\n",
              "    (relu6): ReLU()\n",
              "    (apool6): AdaptiveAvgPool2d(output_size=(1, 1))\n",
              "    (flatten): Flatten(start_dim=1, end_dim=-1)\n",
              "  )\n",
              "  (classifier): Sequential(\n",
              "    (fc7): Linear(in_features=4096, out_features=1024, bias=True)\n",
              "    (relu7): ReLU()\n",
              "    (fc8): Linear(in_features=1024, out_features=1251, bias=True)\n",
              "  )\n",
              ")"
            ]
          },
          "metadata": {
            "tags": []
          },
          "execution_count": 55
        }
      ]
    },
    {
      "cell_type": "code",
      "metadata": {
        "id": "9y_JqGUsfUPo"
      },
      "source": [
        "def test(model, Dataloaders):\n",
        "    corr1=0\n",
        "    corr5=0\n",
        "    counter=0\n",
        "    top1=0\n",
        "    top5=0\n",
        "    for audio, labels in Dataloaders:\n",
        "        audio = audio.to(device)\n",
        "        labels = labels.to(device)\n",
        "        outputs = model(audio)\n",
        "        \n",
        "        print( 'labels: ', labels, 'output: ', outputs)\n",
        "        corr1, corr5=accuracy(outputs, labels, topk=(1,5))\n",
        "        top1+=corr1\n",
        "        top5+=corr5\n",
        "    # max returns (value ,index)\n",
        "        counter+=1\n",
        "    print(\"\\nTop-1 accuracy: %.5f\\nTop-5 accuracy: %.5f\"%(top1/counter, top5/counter))\n",
        "    return top1/counter, top5/counter"
      ],
      "execution_count": 56,
      "outputs": []
    },
    {
      "cell_type": "code",
      "metadata": {
        "id": "WdLz8wd5fXw3",
        "colab": {
          "base_uri": "https://localhost:8080/"
        },
        "outputId": "ac9a361a-c241-4e90-b170-a28a047a0c5c"
      },
      "source": [
        "print(\"\\nTest Score:\\n\")\n",
        "acc1=test(model, Dataloaders['test'])"
      ],
      "execution_count": 57,
      "outputs": [
        {
          "output_type": "stream",
          "text": [
            "\n",
            "Test Score:\n",
            "\n",
            "labels:  tensor([269], device='cuda:0') output:  tensor([[ 0.6497,  1.1976,  1.7840,  ...,  3.9692, -0.2092, -3.8309]],\n",
            "       device='cuda:0', grad_fn=<AddmmBackward>)\n",
            "labels:  tensor([269], device='cuda:0') output:  tensor([[ 1.3369,  4.8396,  3.4511,  ...,  1.3770, -2.3983, -7.7501]],\n",
            "       device='cuda:0', grad_fn=<AddmmBackward>)\n",
            "labels:  tensor([269], device='cuda:0') output:  tensor([[ 0.9749,  5.8992,  2.7150,  ...,  1.7680, -3.1625, -4.0761]],\n",
            "       device='cuda:0', grad_fn=<AddmmBackward>)\n",
            "labels:  tensor([269], device='cuda:0') output:  tensor([[ 1.4344,  6.4688,  2.5059,  ...,  0.9005, -6.9621, -3.7017]],\n",
            "       device='cuda:0', grad_fn=<AddmmBackward>)\n",
            "labels:  tensor([269], device='cuda:0') output:  tensor([[ 0.0504,  5.2183,  7.8084,  ...,  3.0531, -4.1692, -4.8371]],\n",
            "       device='cuda:0', grad_fn=<AddmmBackward>)\n",
            "labels:  tensor([269], device='cuda:0') output:  tensor([[-2.2749,  9.6972,  4.2339,  ...,  2.1629, -5.3547, -3.9640]],\n",
            "       device='cuda:0', grad_fn=<AddmmBackward>)\n",
            "labels:  tensor([269], device='cuda:0') output:  tensor([[ 1.2271,  4.8033, -1.4507,  ...,  0.8024, -2.1517, -5.3057]],\n",
            "       device='cuda:0', grad_fn=<AddmmBackward>)\n",
            "labels:  tensor([269], device='cuda:0') output:  tensor([[ 0.7570,  7.8009,  3.9851,  ...,  1.3580, -6.9393, -7.1014]],\n",
            "       device='cuda:0', grad_fn=<AddmmBackward>)\n",
            "labels:  tensor([269], device='cuda:0') output:  tensor([[ 2.5682,  3.5973,  2.1117,  ..., -1.1279, -3.8568, -6.4048]],\n",
            "       device='cuda:0', grad_fn=<AddmmBackward>)\n",
            "labels:  tensor([269], device='cuda:0') output:  tensor([[ 1.8069,  5.0679,  3.4493,  ...,  3.8956, -5.5156, -5.2310]],\n",
            "       device='cuda:0', grad_fn=<AddmmBackward>)\n",
            "labels:  tensor([269], device='cuda:0') output:  tensor([[ 1.8191,  4.8055,  0.3836,  ...,  0.1531, -3.8021, -3.3317]],\n",
            "       device='cuda:0', grad_fn=<AddmmBackward>)\n",
            "labels:  tensor([269], device='cuda:0') output:  tensor([[ 1.1752,  4.3030,  2.7634,  ...,  1.9233, -3.8976, -9.0951]],\n",
            "       device='cuda:0', grad_fn=<AddmmBackward>)\n",
            "labels:  tensor([269], device='cuda:0') output:  tensor([[-1.0795,  3.1006,  0.0383,  ...,  1.4101, -0.5754, -5.6235]],\n",
            "       device='cuda:0', grad_fn=<AddmmBackward>)\n",
            "labels:  tensor([269], device='cuda:0') output:  tensor([[ 3.1567,  4.9122,  1.7517,  ...,  2.3450, -4.8923, -7.8397]],\n",
            "       device='cuda:0', grad_fn=<AddmmBackward>)\n",
            "labels:  tensor([269], device='cuda:0') output:  tensor([[ 2.9479,  4.2252,  7.9217,  ...,  2.9091, -3.2773, -6.9064]],\n",
            "       device='cuda:0', grad_fn=<AddmmBackward>)\n",
            "labels:  tensor([269], device='cuda:0') output:  tensor([[ 2.6802,  3.2447,  5.5150,  ...,  0.5638, -2.7972, -2.5298]],\n",
            "       device='cuda:0', grad_fn=<AddmmBackward>)\n",
            "labels:  tensor([269], device='cuda:0') output:  tensor([[ 2.2494,  4.8057,  0.4591,  ...,  1.5459, -0.6483, -6.4216]],\n",
            "       device='cuda:0', grad_fn=<AddmmBackward>)\n",
            "labels:  tensor([269], device='cuda:0') output:  tensor([[ 0.2416,  4.4930,  2.1634,  ...,  2.6282, -4.4137, -7.3266]],\n",
            "       device='cuda:0', grad_fn=<AddmmBackward>)\n",
            "labels:  tensor([269], device='cuda:0') output:  tensor([[-1.1828,  6.1342,  1.9299,  ...,  1.0154, -5.2126, -4.8095]],\n",
            "       device='cuda:0', grad_fn=<AddmmBackward>)\n",
            "labels:  tensor([269], device='cuda:0') output:  tensor([[ 1.4156,  4.6631,  4.1840,  ...,  1.0381, -1.3357, -2.1246]],\n",
            "       device='cuda:0', grad_fn=<AddmmBackward>)\n",
            "\n",
            "Top-1 accuracy: 90.00000\n",
            "Top-5 accuracy: 90.00000\n"
          ],
          "name": "stdout"
        }
      ]
    },
    {
      "cell_type": "markdown",
      "metadata": {
        "id": "34sT4wiKfmJg"
      },
      "source": [
        "# EXTRACTION OF EMBEDDINGS !!!"
      ]
    },
    {
      "cell_type": "markdown",
      "metadata": {
        "id": "1H6i3AY2f0oP"
      },
      "source": [
        "* # NOTE that the network has two parts features and classification"
      ]
    },
    {
      "cell_type": "code",
      "metadata": {
        "id": "ghOiEtTffqVx",
        "colab": {
          "base_uri": "https://localhost:8080/"
        },
        "outputId": "98c9648d-bc0a-4206-ef0f-798b5e3ce0c6"
      },
      "source": [
        "list(VGGM().features)"
      ],
      "execution_count": 61,
      "outputs": [
        {
          "output_type": "execute_result",
          "data": {
            "text/plain": [
              "[Conv2d(1, 96, kernel_size=(7, 7), stride=(2, 2), padding=(1, 1)),\n",
              " BatchNorm2d(96, eps=1e-05, momentum=0.5, affine=True, track_running_stats=True),\n",
              " ReLU(),\n",
              " MaxPool2d(kernel_size=(3, 3), stride=(2, 2), padding=0, dilation=1, ceil_mode=False),\n",
              " Conv2d(96, 256, kernel_size=(5, 5), stride=(2, 2), padding=(1, 1)),\n",
              " BatchNorm2d(256, eps=1e-05, momentum=0.5, affine=True, track_running_stats=True),\n",
              " ReLU(),\n",
              " MaxPool2d(kernel_size=(3, 3), stride=(2, 2), padding=0, dilation=1, ceil_mode=False),\n",
              " Conv2d(256, 384, kernel_size=(3, 3), stride=(1, 1), padding=(1, 1)),\n",
              " BatchNorm2d(384, eps=1e-05, momentum=0.5, affine=True, track_running_stats=True),\n",
              " ReLU(),\n",
              " Conv2d(384, 256, kernel_size=(3, 3), stride=(1, 1), padding=(1, 1)),\n",
              " BatchNorm2d(256, eps=1e-05, momentum=0.5, affine=True, track_running_stats=True),\n",
              " ReLU(),\n",
              " Conv2d(256, 256, kernel_size=(3, 3), stride=(1, 1), padding=(1, 1)),\n",
              " BatchNorm2d(256, eps=1e-05, momentum=0.5, affine=True, track_running_stats=True),\n",
              " ReLU(),\n",
              " MaxPool2d(kernel_size=(5, 3), stride=(3, 2), padding=0, dilation=1, ceil_mode=False),\n",
              " Conv2d(256, 4096, kernel_size=(9, 1), stride=(1, 1)),\n",
              " BatchNorm2d(4096, eps=1e-05, momentum=0.5, affine=True, track_running_stats=True),\n",
              " ReLU(),\n",
              " AdaptiveAvgPool2d(output_size=(1, 1)),\n",
              " Flatten(start_dim=1, end_dim=-1)]"
            ]
          },
          "metadata": {
            "tags": []
          },
          "execution_count": 61
        }
      ]
    },
    {
      "cell_type": "code",
      "metadata": {
        "id": "iAJmhrSjfuqf",
        "colab": {
          "base_uri": "https://localhost:8080/"
        },
        "outputId": "1c859532-9b17-4bf6-d997-f468923dfd91"
      },
      "source": [
        "print(model.classifier)"
      ],
      "execution_count": 62,
      "outputs": [
        {
          "output_type": "stream",
          "text": [
            "Sequential(\n",
            "  (fc7): Linear(in_features=4096, out_features=1024, bias=True)\n",
            "  (relu7): ReLU()\n",
            "  (fc8): Linear(in_features=1024, out_features=1251, bias=True)\n",
            ")\n"
          ],
          "name": "stdout"
        }
      ]
    },
    {
      "cell_type": "markdown",
      "metadata": {
        "id": "cWQ3Nr9Gf_9p"
      },
      "source": [
        "## This is to extract an activation from one layer ..."
      ]
    },
    {
      "cell_type": "code",
      "metadata": {
        "id": "nHFDrzwQgHfo"
      },
      "source": [
        "activation = {}\n",
        "def get_activation(name):\n",
        "    def hook(model, input, output):\n",
        "        activation[name] = output.detach()\n",
        "    return hook"
      ],
      "execution_count": 64,
      "outputs": []
    },
    {
      "cell_type": "markdown",
      "metadata": {
        "id": "iA2E5Iq9gLq3"
      },
      "source": [
        "# Now we test it!"
      ]
    },
    {
      "cell_type": "code",
      "metadata": {
        "id": "vrAJa6sFgPAn"
      },
      "source": [
        "def test_embeddings(model, Dataloaders):\n",
        "\n",
        "    for audio, labels in Dataloaders:\n",
        "        audio = audio.to(device)\n",
        "        labels = labels.to(device)\n",
        "        model.classifier.fc7.register_forward_hook(get_activation('fc7'))\n",
        "        outputs = model(audio)\n",
        "        \n",
        "        print(activation['fc7'])"
      ],
      "execution_count": 65,
      "outputs": []
    },
    {
      "cell_type": "code",
      "metadata": {
        "id": "2l0XrEz1gT6v",
        "colab": {
          "base_uri": "https://localhost:8080/"
        },
        "outputId": "e15a1fd9-a187-41bc-c856-0b329802bef4"
      },
      "source": [
        "test_embeddings(model, Dataloaders['test'])"
      ],
      "execution_count": 66,
      "outputs": [
        {
          "output_type": "stream",
          "text": [
            "tensor([[-2.8488e-11, -5.8916e-11, -4.9629e-10,  ...,  1.1575e+01,\n",
            "         -3.7627e-11, -3.5425e-11]], device='cuda:0')\n",
            "tensor([[-3.2383e-11, -6.1420e-11, -4.9148e-10,  ...,  1.0527e+01,\n",
            "         -3.8229e-11, -3.2723e-11]], device='cuda:0')\n",
            "tensor([[-3.4596e-11, -6.3217e-11, -5.4567e-10,  ...,  1.0744e+01,\n",
            "         -4.2171e-11, -3.7380e-11]], device='cuda:0')\n",
            "tensor([[-3.3896e-11, -6.8122e-11, -5.3622e-10,  ...,  1.3883e+01,\n",
            "         -4.2113e-11, -3.5100e-11]], device='cuda:0')\n",
            "tensor([[-3.0619e-11, -6.5882e-11, -5.4377e-10,  ...,  9.5368e+00,\n",
            "         -4.3931e-11, -3.5793e-11]], device='cuda:0')\n",
            "tensor([[-3.1345e-11, -6.1455e-11, -5.3150e-10,  ...,  1.1067e+01,\n",
            "         -3.9604e-11, -3.2866e-11]], device='cuda:0')\n",
            "tensor([[-3.1289e-11, -5.7579e-11, -4.9879e-10,  ...,  5.9615e+00,\n",
            "         -3.7919e-11, -2.9192e-11]], device='cuda:0')\n",
            "tensor([[-3.1151e-11, -6.2389e-11, -4.9415e-10,  ...,  1.3377e+01,\n",
            "         -3.7528e-11, -3.1634e-11]], device='cuda:0')\n",
            "tensor([[-3.3273e-11, -6.9724e-11, -5.6447e-10,  ...,  1.0557e+01,\n",
            "         -4.0890e-11, -3.7889e-11]], device='cuda:0')\n",
            "tensor([[-2.8855e-11, -6.4265e-11, -5.1485e-10,  ...,  7.6210e+00,\n",
            "         -3.9580e-11, -3.3537e-11]], device='cuda:0')\n",
            "tensor([[-3.2750e-11, -6.4133e-11, -5.3458e-10,  ...,  1.1906e+01,\n",
            "         -4.1338e-11, -3.6392e-11]], device='cuda:0')\n",
            "tensor([[-3.1833e-11, -6.3179e-11, -5.1277e-10,  ...,  8.1973e+00,\n",
            "         -4.0004e-11, -3.3508e-11]], device='cuda:0')\n",
            "tensor([[-3.0196e-11, -5.9409e-11, -4.8050e-10,  ...,  3.5475e+00,\n",
            "         -3.6037e-11, -3.3045e-11]], device='cuda:0')\n",
            "tensor([[-2.9430e-11, -6.0704e-11, -4.8998e-10,  ...,  7.5686e+00,\n",
            "         -3.9346e-11, -3.1986e-11]], device='cuda:0')\n",
            "tensor([[-3.2457e-11, -6.4031e-11, -5.1695e-10,  ...,  1.1411e+01,\n",
            "         -4.2158e-11, -3.6086e-11]], device='cuda:0')\n",
            "tensor([[-3.5063e-11, -7.2293e-11, -5.7120e-10,  ...,  1.0146e+01,\n",
            "         -4.4065e-11, -3.9456e-11]], device='cuda:0')\n",
            "tensor([[-2.9351e-11, -6.2240e-11, -5.0307e-10,  ...,  8.5652e+00,\n",
            "         -4.1087e-11, -3.4841e-11]], device='cuda:0')\n",
            "tensor([[-3.1017e-11, -6.6388e-11, -5.0462e-10,  ...,  1.1262e+01,\n",
            "         -3.7500e-11, -3.3366e-11]], device='cuda:0')\n",
            "tensor([[-3.1026e-11, -6.0448e-11, -5.0083e-10,  ...,  1.1926e+01,\n",
            "         -3.9335e-11, -3.3001e-11]], device='cuda:0')\n",
            "tensor([[-3.2085e-11, -6.5156e-11, -5.3731e-10,  ...,  8.1484e+00,\n",
            "         -4.3238e-11, -3.6394e-11]], device='cuda:0')\n"
          ],
          "name": "stdout"
        }
      ]
    },
    {
      "cell_type": "markdown",
      "metadata": {
        "id": "3c1SjWJ2glFG"
      },
      "source": [
        "# Activation is a python dictionary that contains the activation of the specified layer or layers..."
      ]
    },
    {
      "cell_type": "code",
      "metadata": {
        "id": "mHfzgaHRgi5Q",
        "colab": {
          "base_uri": "https://localhost:8080/"
        },
        "outputId": "489b7990-3c92-4679-abd1-82c3d37e6270"
      },
      "source": [
        "activation.keys()"
      ],
      "execution_count": 67,
      "outputs": [
        {
          "output_type": "execute_result",
          "data": {
            "text/plain": [
              "dict_keys(['fc7'])"
            ]
          },
          "metadata": {
            "tags": []
          },
          "execution_count": 67
        }
      ]
    },
    {
      "cell_type": "code",
      "metadata": {
        "id": "mpYDTxBdgegg",
        "colab": {
          "base_uri": "https://localhost:8080/"
        },
        "outputId": "ccd6dff7-c201-41dd-a284-45c339e68495"
      },
      "source": [
        "activation['fc7'].shape"
      ],
      "execution_count": 68,
      "outputs": [
        {
          "output_type": "execute_result",
          "data": {
            "text/plain": [
              "torch.Size([1, 1024])"
            ]
          },
          "metadata": {
            "tags": []
          },
          "execution_count": 68
        }
      ]
    },
    {
      "cell_type": "markdown",
      "metadata": {
        "id": "juHCJkOaqqJP"
      },
      "source": [
        "* # NEXT I'm going to try a simple Notebook extracting embeddings from a wav file\n",
        "\n",
        "VGGVox_Embeddings_Simple.ipynb"
      ]
    }
  ]
}